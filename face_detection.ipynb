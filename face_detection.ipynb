{
 "cells": [
  {
   "cell_type": "code",
   "execution_count": 1,
   "id": "6d2485e5",
   "metadata": {},
   "outputs": [],
   "source": [
    "import cv2\n",
    "from mtcnn.mtcnn import MTCNN\n",
    "import warnings\n",
    "warnings.filterwarnings('ignore')"
   ]
  },
  {
   "cell_type": "code",
   "execution_count": 2,
   "id": "623b4a30",
   "metadata": {},
   "outputs": [],
   "source": [
    "def detect_face(image): \n",
    "    detector = MTCNN()\n",
    "    #image = cv2.imread(\"test_01.jpg\")\n",
    "    result = detector.detect_faces(image)\n",
    "    bounding_box = result[0]['box']\n",
    "    keypoints = result[0]['keypoints']\n",
    "    cv2.rectangle(image,\n",
    "              (bounding_box[0], bounding_box[1]),\n",
    "              (bounding_box[0]+bounding_box[2], \n",
    "               bounding_box[1] + bounding_box[3]),\n",
    "              (0,155,255),\n",
    "              2)\n",
    "\n",
    "    cv2.circle(image,(keypoints['left_eye']), 2, (0,155,255), 2)\n",
    "    cv2.circle(image,(keypoints['right_eye']), 2, (0,155,255), 2)\n",
    "    cv2.circle(image,(keypoints['nose']), 2, (0,155,255), 2)\n",
    "    cv2.circle(image,(keypoints['mouth_left']), 2, (0,155,255), 2)\n",
    "    cv2.circle(image,(keypoints['mouth_right']), 2, (0,155,255), 2)\n",
    "    #cv2.imwrite(\"result_face_detection_01.jpg\", image)\n",
    "\n",
    "    return image"
   ]
  }
 ],
 "metadata": {
  "kernelspec": {
   "display_name": "Python 3",
   "language": "python",
   "name": "python3"
  },
  "language_info": {
   "codemirror_mode": {
    "name": "ipython",
    "version": 3
   },
   "file_extension": ".py",
   "mimetype": "text/x-python",
   "name": "python",
   "nbconvert_exporter": "python",
   "pygments_lexer": "ipython3",
   "version": "3.8.8"
  }
 },
 "nbformat": 4,
 "nbformat_minor": 5
}
